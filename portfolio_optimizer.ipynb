{
 "cells": [
  {
   "cell_type": "markdown",
   "id": "4e09dee9",
   "metadata": {},
   "source": [
    "# Mathematical optimization of ETFs and cash\n",
    "How do you find the best mixing ratio of ETFs and cash in asset management? Let's make python do the job for you."
   ]
  },
  {
   "cell_type": "code",
   "execution_count": 2,
   "id": "471ee7ce",
   "metadata": {},
   "outputs": [],
   "source": [
    "import pandas as pd\n",
    "from pandas_datareader.stooq import StooqDailyReader\n",
    "from datetime import datetime"
   ]
  },
  {
   "cell_type": "code",
   "execution_count": 6,
   "id": "4a19cdc9",
   "metadata": {},
   "outputs": [],
   "source": [
    "def fetch_data_5years(brand):\n",
    "    # fetch 5 years of stock price data \n",
    "    start = datetime(2017, 1, 1)\n",
    "    end = datetime(2021, 12, 31)\n",
    "\n",
    "    stooq = StooqDailyReader(brand, start=start, end=end)\n",
    "    data = stooq.read()\n",
    "    return data"
   ]
  },
  {
   "cell_type": "code",
   "execution_count": 7,
   "id": "a7130842",
   "metadata": {},
   "outputs": [],
   "source": [
    "# 1306.JP TOPIX上場型投資信託\n",
    "# TOK iShares MSCI KOKUSAI Index\n",
    "# 1326.JP SPDRゴールド・シェア\n",
    "etfs = [fetch_data_5years(brand) for brand in ['1306.JP', 'TOK', '1326.JP']]"
   ]
  },
  {
   "cell_type": "code",
   "execution_count": 36,
   "id": "89fa5776",
   "metadata": {},
   "outputs": [],
   "source": [
    "# remove the dates which weren't in other dataframes\n",
    "# set of dates for each dataframe\n",
    "etfs_set = [set(etfs[i].index) for i in range(3)]\n",
    "# set of overlapping dates\n",
    "dates_overlap = etfs_set[0] & etfs_set[1] & etfs_set[2]\n",
    "# align dates\n",
    "etfs = [etf[etf.index.isin(dates_overlap)] for etf in etfs]"
   ]
  },
  {
   "cell_type": "markdown",
   "id": "f8213717",
   "metadata": {},
   "source": [
    "# Solve"
   ]
  },
  {
   "cell_type": "code",
   "execution_count": 54,
   "id": "c37742ca",
   "metadata": {},
   "outputs": [
    {
     "name": "stdout",
     "output_type": "stream",
     "text": [
      "Status Optimal\n"
     ]
    }
   ],
   "source": [
    "import pulp # mathematical optimization library\n",
    "\n",
    "# initialization\n",
    "prob = pulp.LpProblem('stock_porfolio', # name of the problem\n",
    "                      pulp.LpMaximize) # maximize the target variable\n",
    "\n",
    "# mixing ratio of ETFs\n",
    "ratios_etf = [pulp.LpVariable(f'ratio_{brand}', \n",
    "                    lowBound = 0,\n",
    "                    upBound=1,\n",
    "                    cat=pulp.LpContinuous\n",
    "                    ) for brand in ['topix', 'ishares', 'gold']]\n",
    "\n",
    "# mixing ratio of cash\n",
    "ratio_cash = pulp.LpVariable(f'cash_ratio', \n",
    "                    lowBound = 0,\n",
    "                    upBound=1,\n",
    "                    cat=pulp.LpContinuous\n",
    "                    )\n",
    "\n",
    "# dollar cost averaging over 7 days\n",
    "stocks = [pulp.lpSum((1 / (7 * etf.Close.tail(7))) * ratio)\n",
    "          for etf, ratio in zip(etfs, ratios_etf)]\n",
    "\n",
    "# The objective variable is the total price of the assets at the last day of 2017\n",
    "prob += sum([stock * etf['2017-12-31':'2017-01-01'].Close[0] for stock, etf in zip(stocks, etfs)]) + ratio_cash\n",
    "# The sum of the total ratios should be 1\n",
    "prob += sum([ratio for ratio in ratios_etf]) + ratio_cash <= 1\n",
    "status = prob.solve()\n",
    "print(\"Status\", pulp.LpStatus[status])"
   ]
  },
  {
   "cell_type": "markdown",
   "id": "a6b13649",
   "metadata": {},
   "source": [
    "# Result"
   ]
  },
  {
   "cell_type": "code",
   "execution_count": 59,
   "id": "4c0d26ba",
   "metadata": {},
   "outputs": [
    {
     "name": "stdout",
     "output_type": "stream",
     "text": [
      "ratio_topix 1.0000889e-12\n",
      "ratio_ishares 1.0\n",
      "ratio_gold 0.0\n",
      "cash 0.0\n",
      "object_value 1.1916809953090282\n"
     ]
    }
   ],
   "source": [
    "for ratio in ratios_etf:\n",
    "    print(ratio, ratio.value())\n",
    "print('cash', ratio_cash.value())\n",
    "\n",
    "print('object_value', prob.objective.value())"
   ]
  },
  {
   "cell_type": "markdown",
   "id": "311eb899",
   "metadata": {},
   "source": [
    "# Simulation using the result"
   ]
  },
  {
   "cell_type": "code",
   "execution_count": 61,
   "id": "1d061de5",
   "metadata": {},
   "outputs": [],
   "source": [
    "etfs_4y = [etf['2021-12-31':'2018-01-01'] for etf in etfs]"
   ]
  },
  {
   "cell_type": "code",
   "execution_count": 66,
   "id": "1c0f9f4e",
   "metadata": {},
   "outputs": [
    {
     "data": {
      "text/plain": [
       "<AxesSubplot:xlabel='Date'>"
      ]
     },
     "execution_count": 66,
     "metadata": {},
     "output_type": "execute_result"
    },
    {
     "data": {
      "image/png": "[encoded data removed]",
      "text/plain": [
       "<Figure size 432x288 with 1 Axes>"
      ]
     },
     "metadata": {
      "needs_background": "light"
     },
     "output_type": "display_data"
    }
   ],
   "source": [
    "simulation = sum([etf.Close * ratio.value() for etf, ratio in zip(etfs_4y, ratios_etf)]) + ratio_cash.value()\n",
    "simulation.plot()"
   ]
  }
 ],
 "metadata": {
  "kernelspec": {
   "display_name": "Python 3",
   "language": "python",
   "name": "python3"
  },
  "language_info": {
   "codemirror_mode": {
    "name": "ipython",
    "version": 3
   },
   "file_extension": ".py",
   "mimetype": "text/x-python",
   "name": "python",
   "nbconvert_exporter": "python",
   "pygments_lexer": "ipython3",
   "version": "3.6.6"
  }
 },
 "nbformat": 4,
 "nbformat_minor": 5
}
